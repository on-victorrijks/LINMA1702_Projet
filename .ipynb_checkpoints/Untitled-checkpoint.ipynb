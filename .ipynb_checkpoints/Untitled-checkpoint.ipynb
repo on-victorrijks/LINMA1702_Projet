{
 "cells": [
  {
   "cell_type": "code",
   "execution_count": 1,
   "id": "092203fd",
   "metadata": {},
   "outputs": [],
   "source": [
    "import numpy as np\n",
    "import cvxpy as cp\n",
    "import highspy"
   ]
  },
  {
   "cell_type": "markdown",
   "id": "bc1dfe72",
   "metadata": {},
   "source": [
    "### Tache 1\n",
    "\n",
    "**Description:**\n",
    "On souhaite dans un premier temps que la température du bâtiment reste\n",
    "comprise dans une certaine plage admissible de températures, et on cherche à minimiser le\n",
    "coût total de l'électricité consommée par la pompe à chaleur. Formulez ce problème\n",
    "comme un problème d'optimisation linéaire, puis résolvez le.\n",
    "Pour des raisons de temps de calcul, votre modèle considérera uniquement une période de 7\n",
    "jours consécutifs. Il fera l'hypothèse que la température initiale au début de la période est\n",
    "égale à la valeur central de la plage admissible, et fera en sorte que la température finale à la\n",
    "fin de la période revienne à la même valeur. Votre code prendra donc en entrée un\n",
    "paramètre indiquant le numéro de l'intervalle de temps qui début la période, qui s'étendra\n",
    "sur intervalles de temps.\n",
    "\n",
    "**A faire:**\n",
    "1. Calculer le cout minimal\n",
    "2. Faire un graphique de l'évolution des températures\n",
    "3. Faire un graphique représentant l'utilisation de la pompe à chaleur (en distinguant le fonctionnement normal du reverse)\n",
    "3. Faire deux graphes côte à côte de deux périodes:\n",
    "    - Période pré-déterminée (fichier de données ?)\n",
    "    - Période choisie en fonction de son intêret\n",
    "4. Calculer le temps de calcul\n",
    "5. Discuter des résultats (max 4 lignes)"
   ]
  },
  {
   "cell_type": "code",
   "execution_count": 2,
   "id": "39b695f8",
   "metadata": {},
   "outputs": [],
   "source": [
    "## TODO"
   ]
  },
  {
   "cell_type": "markdown",
   "id": "4e03a446",
   "metadata": {},
   "source": [
    "### Tache 2\n",
    "\n",
    "**Description:**\n",
    "On souhaite réduire le coût d'utilisation de la pompe à chaleur, et on va fixer le\n",
    "budget maximal à une certaine proportion du coût minimal identifié lors de la première\n",
    "tâche. Pour diminuer les coût, on va permettre aux températures de sortir de la plage\n",
    "admissible définie plus haut. On va cependant alors comptabiliser la quantité d'inconfort\n",
    "éventuellement subi durant chaque intervalle de temps, qui sera proportionnel au\n",
    "dépassement de la température maximale admissible, ou au dépassement par le bas de la\n",
    "température minimale admissible. On cherche alors à minimiser l'inconfort total (somme\n",
    "des inconforts sur toute la période considérée) tout en respectant la contrainte de\n",
    "budget. Formulez ce problème comme un problème d'optimisation linéaire, puis résolvez le.\n",
    "\n",
    "**A faire:**\n",
    "1. Calculer l'inconfort minimal pour un budget donné\n",
    "2. Faire un graphique de l'évolution des températures\n",
    "3. Faire un graphique représentant l'utilisation de la pompe à chaleur (en distinguant le fonctionnement normal du reverse)\n",
    "4. Faire deux graphes côte à côte de deux périodes:\n",
    "    - Période pré-déterminée (fichier de données ?)\n",
    "    - Période choisie en fonction de son intêret\n",
    "5. Calculer le temps de calcul\n",
    "6. Discuter des résultats (max 4 lignes)"
   ]
  },
  {
   "cell_type": "code",
   "execution_count": 3,
   "id": "6eeeafc6",
   "metadata": {},
   "outputs": [],
   "source": [
    "## TODO"
   ]
  },
  {
   "cell_type": "markdown",
   "id": "aa28910c",
   "metadata": {},
   "source": [
    "### Tache 3\n",
    "\n",
    "**Description:**\n",
    "On voudrait à présent mieux comprendre le compromis qui existe entre le budget\n",
    "alloué et l'inconfort total qui en résulte. Proposez un graphique représentant au mieux\n",
    "cette relation entre budget et inconfort, où on fera varier le budget entre entre zéro et le\n",
    "coût minimal identifié lors de la tâche 1 (ce budget sera indiqué en pourcentage, de 0 à\n",
    "100%). Ceci nécessitera la résolution de plusieurs problèmes, et il sera judicieux d'utiliser la\n",
    "fonctionnalité warm start du solver pour accélérer les calculs.\n",
    "\n",
    "**A faire:**\n",
    "1. Faire un graphique qui représente la relation entre le budget et l'inconfort (budget de 0 à 100% du budget minimal trouvé dans la tache 1)\n",
    "2. Faire deux graphes côte à côte de deux périodes:\n",
    "    - Période pré-déterminée (fichier de données ?)\n",
    "    - Période choisie en fonction de son intêret\n",
    "3. Calculer le temps de calcul (total et moyen par problème?)\n",
    "4. Discuter des résultats (max 4 lignes)"
   ]
  },
  {
   "cell_type": "code",
   "execution_count": 4,
   "id": "8a609686",
   "metadata": {},
   "outputs": [],
   "source": [
    "## TODO"
   ]
  }
 ],
 "metadata": {
  "kernelspec": {
   "display_name": "Python 3 (ipykernel)",
   "language": "python",
   "name": "python3"
  },
  "language_info": {
   "codemirror_mode": {
    "name": "ipython",
    "version": 3
   },
   "file_extension": ".py",
   "mimetype": "text/x-python",
   "name": "python",
   "nbconvert_exporter": "python",
   "pygments_lexer": "ipython3",
   "version": "3.10.6"
  }
 },
 "nbformat": 4,
 "nbformat_minor": 5
}
